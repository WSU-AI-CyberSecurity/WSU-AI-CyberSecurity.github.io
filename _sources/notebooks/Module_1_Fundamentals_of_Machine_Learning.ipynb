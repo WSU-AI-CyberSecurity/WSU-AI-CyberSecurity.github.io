{
 "cells": [
  {
   "cell_type": "markdown",
   "metadata": {
    "id": "iZgl8O7b-fi9"
   },
   "source": [
    "# **Module 1:** Fundamentals of Machine Learning"
   ]
  },
  {
   "cell_type": "markdown",
   "metadata": {},
   "source": [
    "# Machine Learning\n",
    "\n",
    "Machine Learning is a branch of artificial intelligence (AI) that centers on empowering computer systems to automatically learn and refine their performance over time without explicit programming instructions. The fundamental goal is to enable machines to recognize patterns, extract meaningful insights, and make predictions or decisions based on data.\n",
    "\n",
    "\n",
    "\n",
    "## What is Machine Learning About?\n",
    "\n",
    "Machine Learning dedicated to empowering computer systems to autonomously refine their performance without explicit programming instructions. The essence lies in enabling machines to discern patterns, derive valuable insights, and autonomously predict outcomes or make informed decisions based on data analysis. By leveraging algorithms, Machine Learning endeavors to facilitate the understanding and extraction of meaningful information from datasets, fostering the capability of machines to learn from experience and adapt their behavior or predictions over time.\n",
    "\n",
    "At its core, Machine Learning revolves around the development and utilization of algorithms capable of perceiving patterns and leveraging these observations to make data-centric predictions or decisions. Through the process of training models on extensive datasets, Machine Learning endeavors to uncover correlations, trends, and underlying structures present within the data. This methodology allows computers to not only comprehend and analyze known examples but also to generalize from this knowledge, applying learned insights to novel, unseen data instances. The ultimate objective is to equip machines with the ability to extrapolate from past experiences, making informed conclusions and predictions when presented with unfamiliar scenarios, thereby enhancing their adaptability and problem-solving capabilities.\n",
    "\n",
    "<center>\n",
    "    <img style=\"max-width: 670px\" src=\"https://www.fsm.ac.in/blog/wp-content/uploads/2022/08/ml-e1610553826718.jpg\" />\n",
    "</center>\n",
    "\n",
    "\n",
    "## Key Components of Machine Learning:\n",
    "\n",
    "### Algorithms and Statisatical Analysis\n",
    "\n",
    "<center style=\"float: right; margin: 10px;\">\n",
    "    <img style=\"max-width: 400px\" src=\"https://cdn-images-1.medium.com/max/606/0*TaeBBAJBY2KbAuIu\" />\n",
    "</center>\n",
    "\n",
    "  These are the foundational mathematical models or procedures that enable computers to learn from data. Algorithms are designed to identify patterns, correlations, and structures within the data to make predictions or decisions. This involves statisataical analysis on the data relationship to predict unseen values based on past observation.\n",
    "\n",
    "  By examining historical data patterns and relationships, these algorithms can predict or estimate future outcomes or unseen values based on past observations. This predictive capability enables ML models to make informed decisions or generate accurate forecasts.\n",
    "\n",
    "  Once the model has learned from the training data, it aims to generalize its learned patterns to new, unseen data. The goal is for the model to make accurate predictions or decisions when presented with examples it hasn't encountered during training.\n",
    "\n",
    "\n",
    "\n",
    "### Training Data\n",
    "\n",
    "<center style=\"float: right; margin: 10px;\">\n",
    "    <img style=\"max-width: 400px\" src=\"https://miro.medium.com/v2/resize:fit:720/format:webp/0*PWiJPO7psV_U4wDF.png\" />\n",
    "</center>\n",
    "\n",
    "Machine Learning algorithms require large volumes of data to learn from. This data, also known as training data, comprises examples, features, or attributes that the algorithm uses to understand relationships and patterns.\n",
    "\n",
    "Training data consists of a collection of examples or instances, each representing a specific data point. Each example in the training data is associated with a set of features or attributes. These features describe the characteristics or properties of the data. In an image, features might include pixel values, color histograms, or textures.\n",
    "\n",
    "Machine Learning algorithms learn from the patterns and relationships present in the training data. By analyzing these examples and their associated features, the algorithms discern correlations, dependencies, and structures.\n",
    "\n",
    "\n",
    "\n",
    "\n",
    "### Learning and Adaptation\n",
    "\n",
    "<center style=\"float: right; margin: 10px;\">\n",
    "    <img style=\"max-width: 400px\" src=\"https://assets-global.website-files.com/61eeba8765031c95bb83b2ea/61fbec562cf81f62a255f192_61eeb99a54a67e18ce19d47c_0_nyBFE8lLgr8ePAJ_%20(1).jpeg\" />\n",
    "</center>\n",
    "\n",
    "  The learning process involves training algorithms on datasets containing examples or instances with associated features and labels. During this training phase, the algorithms iteratively adjust their internal parameters or structures by analyzing the data relationships. Through optimization techniques like gradient descent or other optimization algorithms, these models learn to minimize errors or discrepancies between predicted outcomes and actual observations.\n",
    "\n",
    "  Once trained, Machine Learning models generalize their acquired knowledge to new, unseen data. They apply the patterns and relationships learned during training to make predictions or decisions on previously unseen examples. This generalization ability is a critical aspect that determines the model's performance in real-world scenarios."
   ]
  },
  {
   "attachments": {},
   "cell_type": "markdown",
   "metadata": {},
   "source": [
    "## Types of Machine Learning:\n",
    "\n",
    "Machine learning uses programmed algorithms that receive and analyse input data to predict output values within an acceptable range. As new data is fed to these algorithms, they learn and optimise their operations to improve performance, developing *intelligence* over time.\n",
    "\n",
    "There are 3 main types of machine learning algorithms: supervised learning, unsupervised learning and reinforcement learning.\n",
    "\n",
    "<center>\n",
    "    <img style=\"max-width: 800px\" src=\"https://miro.medium.com/v2/resize:fit:720/format:webp/0*QYxNNYh6W9jO1b_-.png\" />\n",
    "</center>"
   ]
  },
  {
   "cell_type": "markdown",
   "metadata": {},
   "source": [
    "## Supervised Learning\n",
    "\n",
    "In supervised learning, the machine is taught by example. The operator provides the machine learning algorithm with a known dataset that includes desired inputs and outputs, and the algorithm must find a method to determine how to arrive at those inputs and outputs. While the operator knows the correct answers to the problem, the algorithm identifies patterns in data, learns from observations and makes predictions. The algorithm makes predictions and is corrected by the operator – and this process continues until the algorithm achieves a high level of accuracy/performance.\n",
    "\n",
    "Under the umbrella of supervised learning fall: *Classification*, *Regression* and *Forecasting*.\n",
    "\n",
    "1. Classification: In classification tasks, the machine learning program must draw a conclusion from observed values and determine to what category new observations belong. For example, when filtering emails as ‘spam’ or ‘not spam’, the program must look at existing observational data and filter the emails accordingly.\n",
    "2. Regression: In regression tasks, the machine learning program must estimate – and understand – the relationships among variables. Regression analysis focuses on one dependent variable and a series of other changing variables – making it particularly useful for prediction and forecasting.\n",
    "3. Forecasting: Forecasting is the process of making predictions about the future based on the past and present data, and is commonly used to analyse trends."
   ]
  },
  {
   "cell_type": "markdown",
   "metadata": {},
   "source": [
    "## Exploring Machine Learning in Cybersecurity\n",
    "\n",
    "As we embark on our exploration of machine learning, let's begin with an illustrative example showcasing the potential impact of machine learning in cybersecurity.\n",
    "\n",
    "### Spam Classification\n",
    "\n",
    "<center style=\"float: right; margin: 10px;\">\n",
    "    <img style=\"max-width: 400px\" src=\"https://miro.medium.com/v2/resize:fit:1400/1*WA9aceQugVlBS81r2a7Snw.png\" />\n",
    "</center>\n",
    "\n",
    "In this example, we used text classification to determined whether the messages is spam or not. We used NLP methods to prepare and clean our text data (tokenization, remove stop words, stemming) and different machine learning algorithms to get more accurate predictions. The following classification algorithms have been used: Logistic Regression, Naive Bayes, Support Vector Machine (SVM), Random Forest, Stochastic Gradient Descent and Gradient Boosting.\n",
    "\n",
    "\n",
    "\n",
    "\n",
    "### Dataset\n",
    "The dataset comes from SMS Spam Collection that can be find at https://www.kaggle.com/uciml/sms-spam-collection-dataset. \n",
    "\n",
    "This SMS Spam Collection is a set of SMS tagged messages that have been collected for SMS Spam research. It comprises one set of SMS messages in English of 5,574 messages, which is tagged acording being ham (legitimate) or spam. \n"
   ]
  },
  {
   "cell_type": "markdown",
   "metadata": {},
   "source": [
    "We begin by first importing several libraries for data analysis, natural language processing (NLP), and machine learning in Python. Some of the libraries imported include `pandas` for data manipulation, `numpy` for numerical operations, `matplotlib` and `seaborn` for data visualization, and `nltk` for natural language processing tasks like tokenization and stemming. Additionally, we import functions from `scikit-learn` (`sklearn`) for machine learning tasks such as model selection, creating pipelines, feature extraction, and various classification algorithms.\n",
    "\n",
    "Moreover, we downloads the stopwords corpus from NLTK (Natural Language Toolkit), which contains a list of common words often considered irrelevant in text analysis tasks."
   ]
  },
  {
   "cell_type": "code",
   "execution_count": 2,
   "metadata": {
    "scrolled": true
   },
   "outputs": [
    {
     "name": "stderr",
     "output_type": "stream",
     "text": [
      "[nltk_data] Downloading package stopwords to\n",
      "[nltk_data]     /home/soraxas/nltk_data...\n",
      "[nltk_data]   Unzipping corpora/stopwords.zip.\n"
     ]
    }
   ],
   "source": [
    "import pandas as pd\n",
    "import numpy as np\n",
    "import matplotlib.pyplot as plt\n",
    "import seaborn as sns\n",
    "\n",
    "import re\n",
    "import nltk\n",
    "from nltk.corpus import stopwords\n",
    "from nltk.stem import PorterStemmer\n",
    "from nltk.tokenize import sent_tokenize, word_tokenize\n",
    "\n",
    "from sklearn.model_selection import train_test_split\n",
    "from sklearn.pipeline import Pipeline\n",
    "from sklearn.feature_extraction.text import CountVectorizer, TfidfTransformer\n",
    "\n",
    "# from imblearn.over_sampling import SMOTE\n",
    "\n",
    "from sklearn.linear_model import LogisticRegression\n",
    "from sklearn.naive_bayes import MultinomialNB\n",
    "from sklearn.ensemble import RandomForestClassifier\n",
    "from sklearn.svm import LinearSVC\n",
    "from sklearn.linear_model import SGDClassifier\n",
    "from sklearn.ensemble import GradientBoostingClassifier\n",
    "\n",
    "from sklearn.metrics import confusion_matrix, accuracy_score, classification_report\n",
    "\n",
    "nltk.download(\"stopwords\")\n",
    "None"
   ]
  },
  {
   "cell_type": "markdown",
   "metadata": {},
   "source": [
    "Next, we read a CSV file containing spam-related data, preprocesses it by removing unnecessary columns, renaming columns, converting categorical labels to numerical values, and creates a copy of the preprocessed DataFrame for further analysis or manipulation."
   ]
  },
  {
   "cell_type": "code",
   "execution_count": 3,
   "metadata": {},
   "outputs": [],
   "source": [
    "spam = pd.read_csv(\n",
    "    \"https://raw.githubusercontent.com/WSU-AI-CyberSecurity/data/master/spam.csv\",\n",
    "    encoding=\"latin-1\",\n",
    ")\n",
    "spam.drop([\"Unnamed: 2\", \"Unnamed: 3\", \"Unnamed: 4\"], axis=1, inplace=True)\n",
    "spam.rename(columns={\"v1\": \"Class\", \"v2\": \"Text\"}, inplace=True)\n",
    "spam[\"Class\"] = spam[\"Class\"].map({\"ham\": 0, \"spam\": 1})\n",
    "\n",
    "spam_ori = spam.copy()"
   ]
  },
  {
   "cell_type": "markdown",
   "metadata": {},
   "source": [
    "### Let's visualise the number of genuine and spam email"
   ]
  },
  {
   "cell_type": "code",
   "execution_count": 4,
   "metadata": {},
   "outputs": [
    {
     "data": {
      "text/plain": [
       "Text(0.5, 1.0, 'Number of normal and spam email messages')"
      ]
     },
     "execution_count": 4,
     "metadata": {},
     "output_type": "execute_result"
    },
    {
     "data": {
      "image/png": "[encoded data removed]",
      "text/plain": [
       "<Figure size 640x480 with 1 Axes>"
      ]
     },
     "metadata": {},
     "output_type": "display_data"
    }
   ],
   "source": [
    "sns.countplot(x=\"Class\", data=spam)\n",
    "plt.xlabel(\"Class\")\n",
    "plt.title(\"Number of normal and spam email messages\")"
   ]
  },
  {
   "cell_type": "code",
   "execution_count": 5,
   "metadata": {},
   "outputs": [
    {
     "data": {
      "text/plain": [
       "Text(0.5, 0, 'Message Length Histogram')"
      ]
     },
     "execution_count": 5,
     "metadata": {},
     "output_type": "execute_result"
    },
    {
     "data": {
      "image/png": "[encoded data removed]",
      "text/plain": [
       "<Figure size 800x500 with 1 Axes>"
      ]
     },
     "metadata": {},
     "output_type": "display_data"
    }
   ],
   "source": [
    "plt.figure(figsize=(8, 5))\n",
    "spam[spam.Class == 0].Text.str.len().hist(\n",
    "    bins=35, color=\"blue\", label=\"Normal\", alpha=0.6\n",
    ")\n",
    "spam[spam.Class == 1].Text.str.len().hist(color=\"red\", label=\"Spam\", alpha=0.6)\n",
    "plt.legend()\n",
    "plt.xlabel(\"Message Length Histogram\")"
   ]
  },
  {
   "cell_type": "code",
   "execution_count": 6,
   "metadata": {},
   "outputs": [],
   "source": [
    "def clean_text(words):\n",
    "    \"\"\"The function to clean text\"\"\"\n",
    "    words = re.sub(\"[^a-zA-Z]\", \" \", words)\n",
    "    text = words.lower().split()\n",
    "    return \" \".join(text)\n",
    "\n",
    "\n",
    "def remove_stopwords(text):\n",
    "    \"\"\"The function to removing stopwords\"\"\"\n",
    "    text = [word.lower() for word in text.split() if word.lower() not in stop_words]\n",
    "    return \" \".join(text)\n",
    "\n",
    "\n",
    "def stemmer(stem_text):\n",
    "    \"\"\"The function to apply stemming\"\"\"\n",
    "    stem_text = [porter.stem(word) for word in stem_text.split()]\n",
    "    return \" \".join(stem_text)\n",
    "\n",
    "\n",
    "stop_words = stopwords.words(\"english\")\n",
    "porter = PorterStemmer()\n",
    "\n",
    "spam[\"Text\"] = spam[\"Text\"].apply(clean_text)\n",
    "spam.head()\n",
    "\n",
    "spam[\"Text\"] = spam[\"Text\"].apply(remove_stopwords)\n",
    "spam[\"Text\"] = spam[\"Text\"].apply(stemmer)"
   ]
  },
  {
   "cell_type": "code",
   "execution_count": 7,
   "metadata": {},
   "outputs": [],
   "source": [
    "X = spam[\"Text\"]\n",
    "y = spam[\"Class\"]\n",
    "vect = CountVectorizer(min_df=5, ngram_range=(1, 2)).fit(X)\n",
    "X_vec = vect.transform(X)\n",
    "\n",
    "X_train, X_test, y_train, y_test = train_test_split(\n",
    "    X_vec, y, test_size=0.2, random_state=0\n",
    ")\n",
    "\n",
    "model_lr = Pipeline(\n",
    "    [\n",
    "        (\"tfidf\", TfidfTransformer()),\n",
    "        (\"model\", LogisticRegression()),\n",
    "    ]\n",
    ")\n",
    "\n",
    "model_lr.fit(X_train, y_train)\n",
    "\n",
    "ytest = np.array(y_test)\n",
    "pred_y = model_lr.predict(X_test)"
   ]
  },
  {
   "cell_type": "code",
   "execution_count": 8,
   "metadata": {},
   "outputs": [],
   "source": [
    "model_nb = Pipeline(\n",
    "    [\n",
    "        (\"tfidf\", TfidfTransformer()),\n",
    "        (\"model\", MultinomialNB()),\n",
    "    ]\n",
    ")\n",
    "\n",
    "model_nb.fit(X_train, y_train)\n",
    "\n",
    "ytest = np.array(y_test)\n",
    "pred = model_nb.predict(X_test)"
   ]
  },
  {
   "cell_type": "code",
   "execution_count": 9,
   "metadata": {},
   "outputs": [
    {
     "name": "stdout",
     "output_type": "stream",
     "text": [
      "=========================\n",
      "First 15 results:\n",
      "=========================\n"
     ]
    },
    {
     "data": {
      "text/html": [
       "<div>\n",
       "<style scoped>\n",
       "    .dataframe tbody tr th:only-of-type {\n",
       "        vertical-align: middle;\n",
       "    }\n",
       "\n",
       "    .dataframe tbody tr th {\n",
       "        vertical-align: top;\n",
       "    }\n",
       "\n",
       "    .dataframe thead th {\n",
       "        text-align: right;\n",
       "    }\n",
       "</style>\n",
       "<table border=\"1\" class=\"dataframe\">\n",
       "  <thead>\n",
       "    <tr style=\"text-align: right;\">\n",
       "      <th></th>\n",
       "      <th>Email</th>\n",
       "      <th>Is spam?</th>\n",
       "      <th>predicted</th>\n",
       "    </tr>\n",
       "  </thead>\n",
       "  <tbody>\n",
       "    <tr>\n",
       "      <th>0</th>\n",
       "      <td>Aight should I just plan to come up later toni...</td>\n",
       "      <td>✗</td>\n",
       "      <td>✗</td>\n",
       "    </tr>\n",
       "    <tr>\n",
       "      <th>1</th>\n",
       "      <td>Was the farm open?</td>\n",
       "      <td>✗</td>\n",
       "      <td>✗</td>\n",
       "    </tr>\n",
       "    <tr>\n",
       "      <th>2</th>\n",
       "      <td>I sent my scores to sophas and i had to do sec...</td>\n",
       "      <td>✗</td>\n",
       "      <td>✗</td>\n",
       "    </tr>\n",
       "    <tr>\n",
       "      <th>3</th>\n",
       "      <td>Was gr8 to see that message. So when r u leavi...</td>\n",
       "      <td>✗</td>\n",
       "      <td>✗</td>\n",
       "    </tr>\n",
       "    <tr>\n",
       "      <th>4</th>\n",
       "      <td>In that case I guess I'll see you at campus lodge</td>\n",
       "      <td>✗</td>\n",
       "      <td>✗</td>\n",
       "    </tr>\n",
       "    <tr>\n",
       "      <th>5</th>\n",
       "      <td>Nothing will ever be easy. But don't be lookin...</td>\n",
       "      <td>✗</td>\n",
       "      <td>✗</td>\n",
       "    </tr>\n",
       "    <tr>\n",
       "      <th>6</th>\n",
       "      <td>If you were/are free i can give. Otherwise nal...</td>\n",
       "      <td>✗</td>\n",
       "      <td>✗</td>\n",
       "    </tr>\n",
       "    <tr>\n",
       "      <th>7</th>\n",
       "      <td>Hey i will be late... i'm at amk. Need to drin...</td>\n",
       "      <td>✗</td>\n",
       "      <td>✗</td>\n",
       "    </tr>\n",
       "    <tr>\n",
       "      <th>8</th>\n",
       "      <td>Hey are we going for the lo lesson or gym?</td>\n",
       "      <td>✗</td>\n",
       "      <td>✗</td>\n",
       "    </tr>\n",
       "    <tr>\n",
       "      <th>9</th>\n",
       "      <td>85233 FREE&gt;Ringtone!Reply REAL</td>\n",
       "      <td>✔</td>\n",
       "      <td>✔</td>\n",
       "    </tr>\n",
       "    <tr>\n",
       "      <th>10</th>\n",
       "      <td>\\The world suffers a lot... Not because of the...</td>\n",
       "      <td>✗</td>\n",
       "      <td>✗</td>\n",
       "    </tr>\n",
       "    <tr>\n",
       "      <th>11</th>\n",
       "      <td>Hey!!! I almost forgot ... Happy B-day babe ! ...</td>\n",
       "      <td>✗</td>\n",
       "      <td>✗</td>\n",
       "    </tr>\n",
       "    <tr>\n",
       "      <th>12</th>\n",
       "      <td>I wish u were here. I feel so alone</td>\n",
       "      <td>✗</td>\n",
       "      <td>✗</td>\n",
       "    </tr>\n",
       "    <tr>\n",
       "      <th>13</th>\n",
       "      <td>sports fans - get the latest sports news str* ...</td>\n",
       "      <td>✔</td>\n",
       "      <td>✔</td>\n",
       "    </tr>\n",
       "    <tr>\n",
       "      <th>14</th>\n",
       "      <td>LMAO where's your fish memory when I need it?</td>\n",
       "      <td>✗</td>\n",
       "      <td>✗</td>\n",
       "    </tr>\n",
       "    <tr>\n",
       "      <th>15</th>\n",
       "      <td>Oh is it! Which brand?</td>\n",
       "      <td>✗</td>\n",
       "      <td>✗</td>\n",
       "    </tr>\n",
       "  </tbody>\n",
       "</table>\n",
       "</div>"
      ],
      "text/plain": [
       "                                                Email Is spam? predicted\n",
       "0   Aight should I just plan to come up later toni...        ✗         ✗\n",
       "1                                  Was the farm open?        ✗         ✗\n",
       "2   I sent my scores to sophas and i had to do sec...        ✗         ✗\n",
       "3   Was gr8 to see that message. So when r u leavi...        ✗         ✗\n",
       "4   In that case I guess I'll see you at campus lodge        ✗         ✗\n",
       "5   Nothing will ever be easy. But don't be lookin...        ✗         ✗\n",
       "6   If you were/are free i can give. Otherwise nal...        ✗         ✗\n",
       "7   Hey i will be late... i'm at amk. Need to drin...        ✗         ✗\n",
       "8         Hey are we going for the lo lesson or gym?         ✗         ✗\n",
       "9                      85233 FREE>Ringtone!Reply REAL        ✔         ✔\n",
       "10  \\The world suffers a lot... Not because of the...        ✗         ✗\n",
       "11  Hey!!! I almost forgot ... Happy B-day babe ! ...        ✗         ✗\n",
       "12                I wish u were here. I feel so alone        ✗         ✗\n",
       "13  sports fans - get the latest sports news str* ...        ✔         ✔\n",
       "14      LMAO where's your fish memory when I need it?        ✗         ✗\n",
       "15                             Oh is it! Which brand?        ✗         ✗"
      ]
     },
     "metadata": {},
     "output_type": "display_data"
    }
   ],
   "source": [
    "def map_bool_to_checkmark(text):\n",
    "    return \"✔\" if text else \"✗\"\n",
    "\n",
    "\n",
    "count = 0\n",
    "\n",
    "data = {\"Email\": [], \"Is spam?\": [], \"predicted\": []}\n",
    "for idx, gt, pred in zip(y_test.index, y_test, pred_y):\n",
    "    data[\"Email\"].append(spam_ori.Text[idx])\n",
    "    data[\"Is spam?\"].append(map_bool_to_checkmark(gt))\n",
    "    data[\"predicted\"].append(map_bool_to_checkmark(pred))\n",
    "    count += 1\n",
    "    if count > 15:\n",
    "        break\n",
    "\n",
    "print(\"=========================\\nFirst 15 results:\\n=========================\")\n",
    "display(pd.DataFrame(data))"
   ]
  },
  {
   "cell_type": "markdown",
   "metadata": {
    "id": "N12ZHil1_ZVN"
   },
   "source": [
    "## Terminologies\n",
    "\n",
    "Let us revisit some of the key terminology used in machine learning that we've glanced throught in our previous spam detection:\n",
    "\n",
    "### Features\n",
    "\n",
    "In machine learning, **features** refer to the individual measurable properties or characteristics used to represent the data. These features are the variables or attributes that are fed into a machine learning algorithm as inputs for making predictions or classifications. For instance, in a **spam detection task** for emails, features might include the <u>frequency</u> of certain words, email <u>sender's address</u>, <u>length</u> of the email, etc. Each piece of data is represented by its features, and the quality and relevance of features greatly influence the performance of machine learning models.\n",
    "\n",
    "\n",
    "### Labels\n",
    "\n",
    "In supervised machine learning, **labels** are the outcomes or target variables that the model aims to predict. These are the <u>answers</u> or expected results that the model tries to learn from the input data. In a classification task like spam detection, **labels** could be binary categories such as <u>spam</u> or <u>not spam</u> assigned to each data point. In regression tasks, **labels** might be continuous numerical values that the model predicts. The model learns patterns in the features to predict the corresponding labels accurately.\n",
    "\n",
    "### Algorithms\n",
    "\n",
    "Machine learning **algorithms** are computational procedures or techniques used by models to learn patterns and relationships from data. These algorithms are the core components that <u>enable machines to learn from experience</u> or data and make predictions or decisions without explicit programming. Various types of algorithms exist across machine learning, such as **regression algorithms** (linear regression, polynomial regression), **classification algorithms** (decision trees, support vector machines, logistic regression), **clustering algorithms** (k-means, hierarchical clustering), and more. Each algorithm has its strengths, weaknesses, and suitable use cases based on the nature of the data and the problem being addressed.\n",
    "\n",
    "<center>\n",
    "    <img style=\"max-width: 600px\" src=\"https://images.datacamp.com/image/upload/v1669223211/Machine_Learning_Text_Classification_2659dfc532.png\" />\n",
    "</center>\n",
    "\n",
    "Understanding these terminologies is fundamental in grasping the concepts and workflows in machine learning. **Features** represent the input data, **labels** denote the output or target to be predicted, and **algorithms** are the methods/models that learn from the input-output pairs to make predictions or uncover patterns in the data. We use these in both our training and prediction procedure in our ML pipeline."
   ]
  },
  {
   "cell_type": "markdown",
   "metadata": {},
   "source": [
    "## Evaulation Metrics\n",
    "\n",
    "One thing that we should always keep in our mind when building ML models is how to assess **how good is my model?**\n",
    "\n",
    "Performance metrics in machine learning evaluate the effectiveness of a model's predictions. They provide insights into how well a model performs in solving a particular problem. Here are some essential performance metrics:\n",
    "\n",
    "\n",
    "<center style=\"float: right; margin: 10px;\">\n",
    "    <img style=\"max-width: 380px\" src=\"https://www.dcode.fr/tools/precision-recall/images/precision-recall.png\" />\n",
    "</center>\n",
    "\n",
    "\n",
    "1. **Accuracy**: This metric measures the overall correctness of predictions made by a model. It calculates the ratio of correctly predicted instances to the total number of instances. It's represented as:\n",
    "   \n",
    "    $$\\text{Accuracy} = \\frac{\\text{Number of Correct Predictions}}{\\text{Total Number of Predictions}} \\times 100\\% $$\n",
    "\n",
    "   While accuracy is a commonly used metric, it might not be suitable for imbalanced datasets where one class dominates the other. In such cases, other metrics become more informative.\n",
    "\n",
    "<br>\n",
    "\n",
    "2. **Precision**: Precision measures the accuracy of positive predictions made by the model. It quantifies the ratio of correctly predicted positive instances (true positives) to the total predicted positive instances (true positives + false positives). Precision is calculated as:\n",
    "   \n",
    "    $$\\text{Precision} = \\frac{\\text{True Positives}}{\\text{True Positives + False Positives}}$$\n",
    "\n",
    "    Precision is valuable when the cost of false positives is high. For instance, in a spam detection system, precision indicates the proportion of correctly classified spam emails among all emails flagged as spam.\n",
    "\n",
    "<br>\n",
    "\n",
    "3. **Recall (Sensitivity)**: Recall measures the model's ability to correctly identify all positive instances. It calculates the ratio of correctly predicted positive instances (true positives) to the total actual positive instances (true positives + false negatives). Mathematically, recall is given by:\n",
    "   \n",
    "   $$\\text{Recall} = \\frac{\\text{True Positives}}{\\text{True Positives + False Negatives}}$$\n",
    "\n",
    "   Recall is crucial when it's important to capture all positive instances, even if some false positives occur. For example, in a medical diagnosis system, recall indicates the proportion of actual positive cases correctly identified among all positive cases.\n",
    "\n",
    "<br>\n",
    "\n",
    "4. **F1 Score**: The F1 score is the harmonic mean of precision and recall. It provides a balanced measure between precision and recall, considering both false positives and false negatives. F1 score is calculated as:\n",
    "   \n",
    "   $$\\text{F1 Score} = 2 \\times \\frac{\\text{Precision} \\times \\text{Recall}}{\\text{Precision + Recall}}$$\n",
    "\n",
    "   F1 score is useful when you want to consider both precision and recall simultaneously. It's a good metric for evaluating models on imbalanced datasets where one class significantly outnumbers the other.\n",
    "\n",
    "<br>\n",
    "\n",
    "These metrics help in understanding different aspects of a model's performance. Accuracy provides an overall view, while precision, recall, and F1 score offer insights into specific aspects of model behavior, aiding in making informed decisions about the model's suitability for a particular task. Choosing the appropriate metric depends on the specific goals and requirements of the problem being addressed.\n",
    "\n",
    "<center>\n",
    "    <img style=\"max-width: 600px\" src=\"https://media.licdn.com/dms/image/C4D12AQHfkHbqyV6ebw/article-cover_image-shrink_720_1280/0/1623163137427?e=2147483647&v=beta&t=uuvm7tNCBLRZ3bOea2snzv6BHW1g_td_PIjOMbNI7CM\" />\n",
    "</center>"
   ]
  },
  {
   "cell_type": "markdown",
   "metadata": {},
   "source": [
    "We can now to the pre-built function from `scikit-learn` to compute these metric from our previous spam detection problem"
   ]
  },
  {
   "cell_type": "code",
   "execution_count": 10,
   "metadata": {},
   "outputs": [
    {
     "data": {
      "text/latex": [
       "$\\displaystyle Accuracy: 96.86\\%$"
      ],
      "text/plain": [
       "<IPython.core.display.Math object>"
      ]
     },
     "metadata": {},
     "output_type": "display_data"
    },
    {
     "data": {
      "text/latex": [
       "$\\displaystyle Precision: 100.00\\%$"
      ],
      "text/plain": [
       "<IPython.core.display.Math object>"
      ]
     },
     "metadata": {},
     "output_type": "display_data"
    },
    {
     "data": {
      "text/latex": [
       "$\\displaystyle Recall: 78.92\\%$"
      ],
      "text/plain": [
       "<IPython.core.display.Math object>"
      ]
     },
     "metadata": {},
     "output_type": "display_data"
    },
    {
     "data": {
      "text/latex": [
       "$\\displaystyle F1-Score: 88.22\\%$"
      ],
      "text/plain": [
       "<IPython.core.display.Math object>"
      ]
     },
     "metadata": {},
     "output_type": "display_data"
    }
   ],
   "source": [
    "from sklearn.metrics import accuracy_score, precision_score, recall_score, f1_score\n",
    "from IPython.display import display, Math\n",
    "\n",
    "# Calculate accuracy\n",
    "accuracy = accuracy_score(y_test, pred_y)\n",
    "display(Math(f\"Accuracy: {accuracy*100:.2f}\\%\"))\n",
    "\n",
    "# Calculate precision\n",
    "precision = precision_score(y_test, pred_y)\n",
    "display(Math(f\"Precision: {precision*100:.2f}\\%\"))\n",
    "\n",
    "# Calculate recall\n",
    "recall = recall_score(y_test, pred_y)\n",
    "display(Math(f\"Recall: {recall*100:.2f}\\%\"))\n",
    "\n",
    "# Calculate F1 score\n",
    "f1 = f1_score(y_test, pred_y)\n",
    "display(Math(f\"F1-Score: {f1*100:.2f}\\%\"))"
   ]
  }
 ],
 "metadata": {
  "colab": {
   "authorship_tag": "ABX9TyMiT1I88abwpj+Yg5aXq5GE",
   "include_colab_link": true,
   "provenance": [],
   "toc_visible": true
  },
  "kernelspec": {
   "display_name": "Python 3 (ipykernel)",
   "language": "python",
   "name": "python3"
  },
  "language_info": {
   "codemirror_mode": {
    "name": "ipython",
    "version": 3
   },
   "file_extension": ".py",
   "mimetype": "text/x-python",
   "name": "python",
   "nbconvert_exporter": "python",
   "pygments_lexer": "ipython3",
   "version": "3.9.18"
  }
 },
 "nbformat": 4,
 "nbformat_minor": 4
}
